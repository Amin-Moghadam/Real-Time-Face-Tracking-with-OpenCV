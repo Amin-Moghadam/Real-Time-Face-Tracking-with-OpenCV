{
 "cells": [
  {
   "cell_type": "code",
   "execution_count": 1,
   "metadata": {},
   "outputs": [],
   "source": [
    "import cv2\n",
    "import pyautogui as robot"
   ]
  },
  {
   "cell_type": "code",
   "execution_count": 2,
   "metadata": {},
   "outputs": [],
   "source": [
    "cam = cv2.VideoCapture(0)"
   ]
  },
  {
   "cell_type": "code",
   "execution_count": 3,
   "metadata": {},
   "outputs": [],
   "source": [
    "face_cascade = cv2.CascadeClassifier(\"haarcascade_frontalface_default.xml\")\n",
    "eye_cascade  = cv2.CascadeClassifier(\"haarcascade_eye.xml\")"
   ]
  },
  {
   "cell_type": "code",
   "execution_count": null,
   "metadata": {},
   "outputs": [],
   "source": [
    "while True:\n",
    "    ret, frame = cam.read()  # دریافت فریم از وب‌کم\n",
    "    frame=cv2.flip(frame,1)\n",
    "    if not ret:\n",
    "        print(\"خطا در دریافت تصویر از وب‌کم\")\n",
    "        break\n",
    "\n",
    "    gray = cv2.cvtColor(frame, cv2.COLOR_BGR2GRAY)  # تبدیل به تصویر خاکستری برای تشخیص بهتر\n",
    "\n",
    "    # تشخیص چهره‌ها در تصویر\n",
    "    faces = face_cascade.detectMultiScale(gray, scaleFactor=1.3, minNeighbors=5)\n",
    "    if(len(faces)>0):\n",
    "    \n",
    "        for (x, y, w, h) in faces:\n",
    "            # رسم مستطیل دور چهره\n",
    "            cv2.rectangle(frame, (x, y), (x+w, y+h), (0, 255, 0), 3)\n",
    "            mouse_x=robot.position().x\n",
    "            mouse_y=robot.position().y\n",
    "            red=(0,0,255)\n",
    "            white=(255,255,255)\n",
    "            color=white\n",
    "            if(x<180):\n",
    "                color=red\n",
    "                # mouse_x=mouse_x-10\n",
    "                mouse_x=mouse_x-abs(x-180)\n",
    "                robot.moveTo(mouse_x,mouse_y)  \n",
    "            if(y<250):\n",
    "                color=red\n",
    "                # mouse_x=mouse_x-10\n",
    "                mouse_y=mouse_y-abs(x-250)\n",
    "                robot.moveTo(mouse_x,mouse_y)      \n",
    "            if(w+x>420):\n",
    "                color=red\n",
    "                # mouse_x=mouse_x+10\n",
    "                mouse_x=mouse_x+abs((w+x)-420)\n",
    "                robot.moveTo(mouse_x,mouse_y)    \n",
    "            if(h+y>480):\n",
    "                color=red\n",
    "                # mouse_x=mouse_x+10\n",
    "                mouse_y=mouse_y+abs((h+y)-480)\n",
    "                robot.moveTo(mouse_x,mouse_y)     \n",
    "            cv2.rectangle(frame, (180, 250), (420, 480), color, 5)\n",
    "            roi_gray = gray[y:y+h, x:x+w]  # منطقه مورد علاقه (فقط چهره)\n",
    "            roi_color = frame[y:y+h, x:x+w]\n",
    "            print(\"x:\",x,\"y:\",y)\n",
    "            \n",
    "            # تشخیص چشم‌ها در ناحیه چهره\n",
    "            eyes = eye_cascade.detectMultiScale(roi_gray, scaleFactor=1.1, minNeighbors=10)\n",
    "            for (ex, ey, ew, eh) in eyes:\n",
    "                cv2.rectangle(roi_color, (ex, ey), (ex+ew, ey+eh), (255, 0, 0), 2)\n",
    "\n",
    "    cv2.imshow(\"Face and Eye Detection\", frame)\n",
    "\n",
    "    # خروج از حلقه با فشردن کلید q\n",
    "    if cv2.waitKey(1) & 0xFF == ord(\"q\"):\n",
    "        break\n",
    "\n",
    "cam.release()\n",
    "cv2.destroyAllWindows()"
   ]
  },
  {
   "cell_type": "code",
   "execution_count": 86,
   "metadata": {},
   "outputs": [
    {
     "name": "stdout",
     "output_type": "stream",
     "text": [
      "Point(x=855, y=568)\n"
     ]
    }
   ],
   "source": [
    "a=robot.position()\n",
    "print(a)"
   ]
  }
 ],
 "metadata": {
  "kernelspec": {
   "display_name": "Python 3",
   "language": "python",
   "name": "python3"
  },
  "language_info": {
   "codemirror_mode": {
    "name": "ipython",
    "version": 3
   },
   "file_extension": ".py",
   "mimetype": "text/x-python",
   "name": "python",
   "nbconvert_exporter": "python",
   "pygments_lexer": "ipython3",
   "version": "3.8.8"
  }
 },
 "nbformat": 4,
 "nbformat_minor": 2
}
